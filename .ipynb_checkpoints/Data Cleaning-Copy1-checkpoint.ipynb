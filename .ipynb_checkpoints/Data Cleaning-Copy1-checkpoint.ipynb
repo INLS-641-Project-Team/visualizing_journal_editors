{
 "cells": [
  {
   "cell_type": "code",
   "execution_count": 58,
   "id": "23c3c957",
   "metadata": {},
   "outputs": [],
   "source": [
    "import pandas as pd\n",
    "import re\n",
    "from unidecode import unidecode"
   ]
  },
  {
   "cell_type": "code",
   "execution_count": 3,
   "id": "fdfdb7cd",
   "metadata": {},
   "outputs": [],
   "source": [
    "data = pd.read_csv(\"combined_partially_cleaned_data.csv\")"
   ]
  },
  {
   "cell_type": "code",
   "execution_count": 4,
   "id": "875c1029",
   "metadata": {},
   "outputs": [
    {
     "data": {
      "text/html": [
       "<div>\n",
       "<style scoped>\n",
       "    .dataframe tbody tr th:only-of-type {\n",
       "        vertical-align: middle;\n",
       "    }\n",
       "\n",
       "    .dataframe tbody tr th {\n",
       "        vertical-align: top;\n",
       "    }\n",
       "\n",
       "    .dataframe thead th {\n",
       "        text-align: right;\n",
       "    }\n",
       "</style>\n",
       "<table border=\"1\" class=\"dataframe\">\n",
       "  <thead>\n",
       "    <tr style=\"text-align: right;\">\n",
       "      <th></th>\n",
       "      <th>Unnamed: 0</th>\n",
       "      <th>publisher</th>\n",
       "      <th>journal</th>\n",
       "      <th>editor</th>\n",
       "      <th>affiliation</th>\n",
       "      <th>country</th>\n",
       "      <th>continent</th>\n",
       "    </tr>\n",
       "  </thead>\n",
       "  <tbody>\n",
       "    <tr>\n",
       "      <th>0</th>\n",
       "      <td>0</td>\n",
       "      <td>American Psychological Association</td>\n",
       "      <td>American Journal of Orthopsychiatry</td>\n",
       "      <td>Jill D. McLeigh, PhD</td>\n",
       "      <td>Children&lt;U+0092&gt;s Health, Dallas, United States</td>\n",
       "      <td>United States</td>\n",
       "      <td>Americas</td>\n",
       "    </tr>\n",
       "    <tr>\n",
       "      <th>91</th>\n",
       "      <td>93</td>\n",
       "      <td>American Psychological Association</td>\n",
       "      <td>American Psychologist&lt;U+00AE&gt;</td>\n",
       "      <td>Janet S. Hyde, PhD</td>\n",
       "      <td>University of Wisconsin&lt;U+0096&gt;Madison, United...</td>\n",
       "      <td>United States</td>\n",
       "      <td>Americas</td>\n",
       "    </tr>\n",
       "    <tr>\n",
       "      <th>105</th>\n",
       "      <td>107</td>\n",
       "      <td>American Psychological Association</td>\n",
       "      <td>American Psychologist&lt;U+00AE&gt;</td>\n",
       "      <td>Nancy L. McElwain, PhD</td>\n",
       "      <td>University of Illinois at Urbana&lt;U+0096&gt;Champa...</td>\n",
       "      <td>United States</td>\n",
       "      <td>Americas</td>\n",
       "    </tr>\n",
       "    <tr>\n",
       "      <th>180</th>\n",
       "      <td>187</td>\n",
       "      <td>American Psychological Association</td>\n",
       "      <td>Behavioral Neuroscience&lt;U+00AE&gt;</td>\n",
       "      <td>Denise J. Cai, PhD&lt;em&gt;</td>\n",
       "      <td>&lt;br&gt;\\r\\r\\r\\nNeuroscience Department, Icahn Sch...</td>\n",
       "      <td>United States</td>\n",
       "      <td>Americas</td>\n",
       "    </tr>\n",
       "    <tr>\n",
       "      <th>186</th>\n",
       "      <td>193</td>\n",
       "      <td>American Psychological Association</td>\n",
       "      <td>Behavioral Neuroscience&lt;U+00AE&gt;</td>\n",
       "      <td>&lt;em&gt;Roshan Cools, PhD</td>\n",
       "      <td>Roshan Cools, PhD\\r\\r\\r\\n&lt;br&gt;\\r\\r\\r\\nDonders I...</td>\n",
       "      <td>Netherlands</td>\n",
       "      <td>Europe</td>\n",
       "    </tr>\n",
       "    <tr>\n",
       "      <th>...</th>\n",
       "      <td>...</td>\n",
       "      <td>...</td>\n",
       "      <td>...</td>\n",
       "      <td>...</td>\n",
       "      <td>...</td>\n",
       "      <td>...</td>\n",
       "      <td>...</td>\n",
       "    </tr>\n",
       "    <tr>\n",
       "      <th>439429</th>\n",
       "      <td>477318</td>\n",
       "      <td>SAGE</td>\n",
       "      <td>NHRD Network Journal</td>\n",
       "      <td>Ashok Ramachandran</td>\n",
       "      <td>National Secretary, NHRDN, Gurgaon, India and ...</td>\n",
       "      <td>India</td>\n",
       "      <td>Asia</td>\n",
       "    </tr>\n",
       "    <tr>\n",
       "      <th>439562</th>\n",
       "      <td>477459</td>\n",
       "      <td>SAGE</td>\n",
       "      <td>Nordic Studies on Alcohol and Drugs</td>\n",
       "      <td>Lars Fynbo</td>\n",
       "      <td>VIVE &lt;U+0096&gt; The Danish Centre of Applied Soc...</td>\n",
       "      <td>Denmark</td>\n",
       "      <td>Europe</td>\n",
       "    </tr>\n",
       "    <tr>\n",
       "      <th>439566</th>\n",
       "      <td>477463</td>\n",
       "      <td>SAGE</td>\n",
       "      <td>Nordic Studies on Alcohol and Drugs</td>\n",
       "      <td>Ditte Andersen</td>\n",
       "      <td>VIVE &lt;U+0096&gt; The Danish Centre of Applied Soc...</td>\n",
       "      <td>Denmark</td>\n",
       "      <td>Europe</td>\n",
       "    </tr>\n",
       "    <tr>\n",
       "      <th>439669</th>\n",
       "      <td>477567</td>\n",
       "      <td>SAGE</td>\n",
       "      <td>Nursing Science Quarterly</td>\n",
       "      <td>Karen Carroll, RN, PhD</td>\n",
       "      <td>Ann &amp; Robert H. Lurie Children&lt;U+0092&gt;s Hospit...</td>\n",
       "      <td>United States</td>\n",
       "      <td>Americas</td>\n",
       "    </tr>\n",
       "    <tr>\n",
       "      <th>440311</th>\n",
       "      <td>478230</td>\n",
       "      <td>SAGE</td>\n",
       "      <td>Organization Theory</td>\n",
       "      <td>Tina Dacin</td>\n",
       "      <td>Queen&lt;U+0092&gt;s University, Canada</td>\n",
       "      <td>Canada</td>\n",
       "      <td>Americas</td>\n",
       "    </tr>\n",
       "  </tbody>\n",
       "</table>\n",
       "<p>5292 rows × 7 columns</p>\n",
       "</div>"
      ],
      "text/plain": [
       "        Unnamed: 0                           publisher  \\\n",
       "0                0  American Psychological Association   \n",
       "91              93  American Psychological Association   \n",
       "105            107  American Psychological Association   \n",
       "180            187  American Psychological Association   \n",
       "186            193  American Psychological Association   \n",
       "...            ...                                 ...   \n",
       "439429      477318                                SAGE   \n",
       "439562      477459                                SAGE   \n",
       "439566      477463                                SAGE   \n",
       "439669      477567                                SAGE   \n",
       "440311      478230                                SAGE   \n",
       "\n",
       "                                    journal                  editor  \\\n",
       "0       American Journal of Orthopsychiatry    Jill D. McLeigh, PhD   \n",
       "91            American Psychologist<U+00AE>      Janet S. Hyde, PhD   \n",
       "105           American Psychologist<U+00AE>  Nancy L. McElwain, PhD   \n",
       "180         Behavioral Neuroscience<U+00AE>  Denise J. Cai, PhD<em>   \n",
       "186         Behavioral Neuroscience<U+00AE>   <em>Roshan Cools, PhD   \n",
       "...                                     ...                     ...   \n",
       "439429                 NHRD Network Journal      Ashok Ramachandran   \n",
       "439562  Nordic Studies on Alcohol and Drugs              Lars Fynbo   \n",
       "439566  Nordic Studies on Alcohol and Drugs          Ditte Andersen   \n",
       "439669            Nursing Science Quarterly  Karen Carroll, RN, PhD   \n",
       "440311                  Organization Theory              Tina Dacin   \n",
       "\n",
       "                                              affiliation        country  \\\n",
       "0         Children<U+0092>s Health, Dallas, United States  United States   \n",
       "91      University of Wisconsin<U+0096>Madison, United...  United States   \n",
       "105     University of Illinois at Urbana<U+0096>Champa...  United States   \n",
       "180     <br>\\r\\r\\r\\nNeuroscience Department, Icahn Sch...  United States   \n",
       "186     Roshan Cools, PhD\\r\\r\\r\\n<br>\\r\\r\\r\\nDonders I...    Netherlands   \n",
       "...                                                   ...            ...   \n",
       "439429  National Secretary, NHRDN, Gurgaon, India and ...          India   \n",
       "439562  VIVE <U+0096> The Danish Centre of Applied Soc...        Denmark   \n",
       "439566  VIVE <U+0096> The Danish Centre of Applied Soc...        Denmark   \n",
       "439669  Ann & Robert H. Lurie Children<U+0092>s Hospit...  United States   \n",
       "440311                  Queen<U+0092>s University, Canada         Canada   \n",
       "\n",
       "       continent  \n",
       "0       Americas  \n",
       "91      Americas  \n",
       "105     Americas  \n",
       "180     Americas  \n",
       "186       Europe  \n",
       "...          ...  \n",
       "439429      Asia  \n",
       "439562    Europe  \n",
       "439566    Europe  \n",
       "439669  Americas  \n",
       "440311  Americas  \n",
       "\n",
       "[5292 rows x 7 columns]"
      ]
     },
     "execution_count": 4,
     "metadata": {},
     "output_type": "execute_result"
    }
   ],
   "source": [
    "# finding all the rows with unicode issues in affiliation\n",
    "data[data[\"affiliation\"].str.contains(\"<.*>\")]"
   ]
  },
  {
   "cell_type": "markdown",
   "id": "a1c29d75",
   "metadata": {},
   "source": [
    "#### Step 1: Find the...problematic characters"
   ]
  },
  {
   "cell_type": "code",
   "execution_count": 5,
   "id": "dc1fbbf9",
   "metadata": {},
   "outputs": [],
   "source": [
    "# trying to pull the variations for the unicode issue -> may run slow though :(\n",
    "unicode = data[\"affiliation\"].str.extract(r'.*(<.*>).*')"
   ]
  },
  {
   "cell_type": "code",
   "execution_count": 41,
   "id": "62759283",
   "metadata": {},
   "outputs": [
    {
     "data": {
      "text/plain": [
       "0    5292\n",
       "dtype: int64"
      ]
     },
     "execution_count": 41,
     "metadata": {},
     "output_type": "execute_result"
    }
   ],
   "source": [
    "unicode.dropna().count()"
   ]
  },
  {
   "cell_type": "code",
   "execution_count": 47,
   "id": "78d4a87e",
   "metadata": {},
   "outputs": [
    {
     "data": {
      "text/plain": [
       "0.9533257747543462"
      ]
     },
     "execution_count": 47,
     "metadata": {},
     "output_type": "execute_result"
    }
   ],
   "source": [
    "# head represents ~95% of <> vals within the affiliation column\n",
    "(1565+1397+603+495+301+150+115+108+61+57+46+42+41+38+26)/5292"
   ]
  },
  {
   "cell_type": "code",
   "execution_count": 6,
   "id": "3e025408",
   "metadata": {},
   "outputs": [
    {
     "data": {
      "text/plain": [
       "<U+0092>    1565\n",
       "<U+0096>    1397\n",
       "<U+00A0>     603\n",
       "<U+0094>     495\n",
       "<U+206F>     301\n",
       "<U+0097>     150\n",
       "<U+0219>     115\n",
       "<U+009A>     108\n",
       "</em>         61\n",
       "<U+009E>      57\n",
       "<U+200B>      46\n",
       "<U+021B>      42\n",
       "<U+00B4>      41\n",
       "<br>          38\n",
       "<U+00B7>      26\n",
       "dtype: int64"
      ]
     },
     "execution_count": 6,
     "metadata": {},
     "output_type": "execute_result"
    }
   ],
   "source": [
    "# getting an idea of the types of unicode issues we have inside this column\n",
    "unicode.dropna().value_counts().head(15)"
   ]
  },
  {
   "cell_type": "markdown",
   "id": "e525498e",
   "metadata": {},
   "source": [
    "#### Step 2: Making a function and a dictionary of values"
   ]
  },
  {
   "cell_type": "code",
   "execution_count": 56,
   "id": "0fd67a7f",
   "metadata": {},
   "outputs": [],
   "source": [
    "# translating the unicode to the others\n",
    "# this takes care of ~95% of the <.*> messiness within affiliation\n",
    "unicode_dict = {\n",
    "    \"<U+0092>\": \"'\", # this counts as a '\n",
    "    \"<U+0096>\": \"-\", # this counts as a - -> \"start of gaurded area\"\n",
    "    \"<U+00A0>\": \" \", # this counts as a \"non-break space\" -> \" \"\n",
    "    \"<U+0094>\": '\"', # cancel character -> '\"'\n",
    "    \"<U+206F>\": \" \", # \"nominal digit shapes\" -> \" \"\n",
    "    \"<U+0097>\": \"-\", # \"end of guarded area\" -> maps to <U+0096> -> -\n",
    "    \"<U+0219>\": unidecode(\"\\u0219\"), # latin letter s w/comma underneath it -> maps to an s really\n",
    "    \"<U+009A>\": \"\",# \"SINGLE CHARACTER INTRODUCER\" -> no direct mapping...\n",
    "    \"</em>\": \"-\", # maps to extended dash\n",
    "    \"<U+009E>\": \"\", # \"privacy message\" -> no direct mapping...\n",
    "    \"<U+200B>\": \"\" , # \"zero width space\" -> I'm going to just replace it with a \"\"\n",
    "    \"<U+021B>\": unidecode(\"\\u021B\"), # latin letter t w/comma below -> maps to a t really probably\n",
    "    \"<U+00B4>\": unidecode(\"\\u00B4\"), # maps to acute accent but I'm going to assume they really mean a '\n",
    "    \"<br>\": \"\", # it's a break -> just going to remove it\n",
    "    \"<U+00B7>\": unidecode(\"\\u00B7\")\n",
    "}"
   ]
  },
  {
   "cell_type": "code",
   "execution_count": 77,
   "id": "ba34d426",
   "metadata": {},
   "outputs": [],
   "source": [
    "# defining a cleaning function to apply to each column\n",
    "def carrot_removal(x):\n",
    "    # using regex to find each bit\n",
    "    matches = re.search(r'.*(<.*>).*', x) # searching within x\n",
    "    \n",
    "    if matches:\n",
    "        str_to_repl = matches.group(0) # pulling the 0th match within the group\n",
    "    \n",
    "        # checking if the match is within the dict\n",
    "        if str_to_repl in unicode_dict.keys():\n",
    "            carrots_removed = x.replace(str_to_repl, unicode_dict[str_to_repl]) # if yes, replacing it w dict val\n",
    "        else:\n",
    "            carrots_removed = x.replace(str_to_repl, \"\") # if not, replacing it with \"\"\n",
    "            \n",
    "    else:\n",
    "        carrots_removed = x # if no match, then we'll just go ahead and leave x unchaged\n",
    "    \n",
    "    return carrots_removed # returning the fixed carrot string\n",
    "\n"
   ]
  },
  {
   "cell_type": "markdown",
   "id": "627b0682",
   "metadata": {},
   "source": [
    "#### Step 3: Applying the function to clean the column"
   ]
  },
  {
   "cell_type": "code",
   "execution_count": 81,
   "id": "3efb36cf",
   "metadata": {},
   "outputs": [
    {
     "name": "stdout",
     "output_type": "stream",
     "text": [
      "Wall time: 28.9 s\n"
     ]
    }
   ],
   "source": [
    "%%time\n",
    "# cleaning up and removing the carrots\n",
    "data[\"affiliation\"] = data[\"affiliation\"].apply(carrot_removal)"
   ]
  }
 ],
 "metadata": {
  "kernelspec": {
   "display_name": "Python 3 (ipykernel)",
   "language": "python",
   "name": "python3"
  },
  "language_info": {
   "codemirror_mode": {
    "name": "ipython",
    "version": 3
   },
   "file_extension": ".py",
   "mimetype": "text/x-python",
   "name": "python",
   "nbconvert_exporter": "python",
   "pygments_lexer": "ipython3",
   "version": "3.9.7"
  }
 },
 "nbformat": 4,
 "nbformat_minor": 5
}
