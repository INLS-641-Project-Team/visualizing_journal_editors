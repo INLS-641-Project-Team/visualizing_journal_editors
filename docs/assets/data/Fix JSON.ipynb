{
 "cells": [
  {
   "cell_type": "code",
   "execution_count": 1,
   "id": "e8f5f2ef",
   "metadata": {},
   "outputs": [],
   "source": [
    "import pandas as pd\n",
    "import json"
   ]
  },
  {
   "cell_type": "code",
   "execution_count": 2,
   "id": "9599c5ed",
   "metadata": {},
   "outputs": [],
   "source": [
    "with open('concentrations_with_pred.json') as json_file:\n",
    "    c = json.load(json_file)"
   ]
  },
  {
   "cell_type": "code",
   "execution_count": 3,
   "id": "398271bf",
   "metadata": {},
   "outputs": [
    {
     "data": {
      "text/plain": [
       "dict_keys(['publishers', 'editors', 'countries', 'subcountries', 'institutions'])"
      ]
     },
     "execution_count": 3,
     "metadata": {},
     "output_type": "execute_result"
    }
   ],
   "source": [
    "c.keys()"
   ]
  },
  {
   "cell_type": "code",
   "execution_count": 4,
   "id": "5b0e3642",
   "metadata": {},
   "outputs": [],
   "source": [
    "pc = c['publishers']\n",
    "ec = c['editors']\n",
    "cc = c['countries']\n",
    "sc = c['subcountries']\n",
    "ic = c['institutions']"
   ]
  },
  {
   "cell_type": "code",
   "execution_count": 17,
   "id": "1466b0d4",
   "metadata": {},
   "outputs": [],
   "source": [
    "with open('pub_concentrations.json','w') as outfile: \n",
    "    json.dump(pc, outfile)"
   ]
  },
  {
   "cell_type": "code",
   "execution_count": 18,
   "id": "ca7bb5c6",
   "metadata": {},
   "outputs": [],
   "source": [
    "with open('ed_concentrations.json','w') as outfile: \n",
    "    json.dump(ec, outfile)"
   ]
  },
  {
   "cell_type": "code",
   "execution_count": 19,
   "id": "e9e10f82",
   "metadata": {},
   "outputs": [],
   "source": [
    "with open('country_concentrations.json','w') as outfile: \n",
    "    json.dump(cc, outfile)"
   ]
  },
  {
   "cell_type": "code",
   "execution_count": 5,
   "id": "b12a754a",
   "metadata": {},
   "outputs": [],
   "source": [
    "with open('institution_concentrations.json','w') as outfile: \n",
    "    json.dump(ic, outfile)"
   ]
  },
  {
   "cell_type": "code",
   "execution_count": 6,
   "id": "b81b8eb7",
   "metadata": {},
   "outputs": [],
   "source": [
    "with open('subcountry_concentrations.json','w') as outfile: \n",
    "    json.dump(sc, outfile)"
   ]
  }
 ],
 "metadata": {
  "kernelspec": {
   "display_name": "Python 3 (ipykernel)",
   "language": "python",
   "name": "python3"
  },
  "language_info": {
   "codemirror_mode": {
    "name": "ipython",
    "version": 3
   },
   "file_extension": ".py",
   "mimetype": "text/x-python",
   "name": "python",
   "nbconvert_exporter": "python",
   "pygments_lexer": "ipython3",
   "version": "3.9.7"
  }
 },
 "nbformat": 4,
 "nbformat_minor": 5
}
