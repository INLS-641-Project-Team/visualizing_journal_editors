{
 "cells": [
  {
   "cell_type": "code",
   "execution_count": 30,
   "id": "abbb17b4",
   "metadata": {},
   "outputs": [],
   "source": [
    "import pandas as pd\n",
    "import re"
   ]
  },
  {
   "cell_type": "code",
   "execution_count": 3,
   "id": "335d74a6",
   "metadata": {},
   "outputs": [
    {
     "name": "stderr",
     "output_type": "stream",
     "text": [
      "C:\\Users\\ashbu\\anaconda3\\lib\\site-packages\\IPython\\core\\interactiveshell.py:3444: DtypeWarning: Columns (1) have mixed types.Specify dtype option on import or set low_memory=False.\n",
      "  exec(code_obj, self.user_global_ns, self.user_ns)\n"
     ]
    }
   ],
   "source": [
    "# reading in the data to start with\n",
    "data_pt_1 = pd.read_csv(\"editors1_ror_and_countries.csv\", encoding=\"utf-8\")\n",
    "data_pt_2 = pd.read_csv(\"editors2_ror_and_countries.csv\", encoding =\"utf-8\")"
   ]
  },
  {
   "cell_type": "code",
   "execution_count": 4,
   "id": "f28392d5",
   "metadata": {},
   "outputs": [],
   "source": [
    "# combining the two datasets\n",
    "data_combined = pd.concat([data_pt_1, data_pt_2], axis= 0).reset_index(drop=True)"
   ]
  },
  {
   "cell_type": "markdown",
   "id": "d6c200eb",
   "metadata": {},
   "source": [
    "#### Preliminary Exploration"
   ]
  },
  {
   "cell_type": "code",
   "execution_count": 5,
   "id": "aed95728",
   "metadata": {
    "scrolled": true
   },
   "outputs": [
    {
     "data": {
      "text/html": [
       "<div>\n",
       "<style scoped>\n",
       "    .dataframe tbody tr th:only-of-type {\n",
       "        vertical-align: middle;\n",
       "    }\n",
       "\n",
       "    .dataframe tbody tr th {\n",
       "        vertical-align: top;\n",
       "    }\n",
       "\n",
       "    .dataframe thead th {\n",
       "        text-align: right;\n",
       "    }\n",
       "</style>\n",
       "<table border=\"1\" class=\"dataframe\">\n",
       "  <thead>\n",
       "    <tr style=\"text-align: right;\">\n",
       "      <th></th>\n",
       "      <th>publisher</th>\n",
       "      <th>issn</th>\n",
       "      <th>journal</th>\n",
       "      <th>role</th>\n",
       "      <th>editor</th>\n",
       "      <th>affiliation</th>\n",
       "      <th>country</th>\n",
       "      <th>continent</th>\n",
       "      <th>ror</th>\n",
       "      <th>url</th>\n",
       "      <th>date</th>\n",
       "    </tr>\n",
       "  </thead>\n",
       "  <tbody>\n",
       "    <tr>\n",
       "      <th>count</th>\n",
       "      <td>478512</td>\n",
       "      <td>347315</td>\n",
       "      <td>478506</td>\n",
       "      <td>478484</td>\n",
       "      <td>478512</td>\n",
       "      <td>470134</td>\n",
       "      <td>445960</td>\n",
       "      <td>440578</td>\n",
       "      <td>394107</td>\n",
       "      <td>476721</td>\n",
       "      <td>478512</td>\n",
       "    </tr>\n",
       "    <tr>\n",
       "      <th>unique</th>\n",
       "      <td>17</td>\n",
       "      <td>3161</td>\n",
       "      <td>6056</td>\n",
       "      <td>5291</td>\n",
       "      <td>388687</td>\n",
       "      <td>141914</td>\n",
       "      <td>1059</td>\n",
       "      <td>5</td>\n",
       "      <td>16670</td>\n",
       "      <td>6024</td>\n",
       "      <td>13</td>\n",
       "    </tr>\n",
       "    <tr>\n",
       "      <th>top</th>\n",
       "      <td>Frontiers Media</td>\n",
       "      <td>1664-1078</td>\n",
       "      <td>Frontiers in in Psychology</td>\n",
       "      <td>Review Editor</td>\n",
       "      <td>Dorgham, M.A.</td>\n",
       "      <td>Emerald Publishing</td>\n",
       "      <td>United States</td>\n",
       "      <td>Europe</td>\n",
       "      <td>https://ror.org/02jx3x895</td>\n",
       "      <td>https://www.frontiersin.org/journals/psycholog...</td>\n",
       "      <td>2020-12-15</td>\n",
       "    </tr>\n",
       "    <tr>\n",
       "      <th>freq</th>\n",
       "      <td>174294</td>\n",
       "      <td>9961</td>\n",
       "      <td>9961</td>\n",
       "      <td>109246</td>\n",
       "      <td>79</td>\n",
       "      <td>679</td>\n",
       "      <td>74997</td>\n",
       "      <td>180795</td>\n",
       "      <td>1698</td>\n",
       "      <td>9961</td>\n",
       "      <td>122122</td>\n",
       "    </tr>\n",
       "  </tbody>\n",
       "</table>\n",
       "</div>"
      ],
      "text/plain": [
       "              publisher       issn                     journal           role  \\\n",
       "count            478512     347315                      478506         478484   \n",
       "unique               17       3161                        6056           5291   \n",
       "top     Frontiers Media  1664-1078  Frontiers in in Psychology  Review Editor   \n",
       "freq             174294       9961                        9961         109246   \n",
       "\n",
       "               editor         affiliation        country continent  \\\n",
       "count          478512              470134         445960    440578   \n",
       "unique         388687              141914           1059         5   \n",
       "top     Dorgham, M.A.  Emerald Publishing  United States    Europe   \n",
       "freq               79                 679          74997    180795   \n",
       "\n",
       "                              ror  \\\n",
       "count                      394107   \n",
       "unique                      16670   \n",
       "top     https://ror.org/02jx3x895   \n",
       "freq                         1698   \n",
       "\n",
       "                                                      url        date  \n",
       "count                                              476721      478512  \n",
       "unique                                               6024          13  \n",
       "top     https://www.frontiersin.org/journals/psycholog...  2020-12-15  \n",
       "freq                                                 9961      122122  "
      ]
     },
     "execution_count": 5,
     "metadata": {},
     "output_type": "execute_result"
    }
   ],
   "source": [
    "# looking at the descriptions for each of the columns\n",
    "data_combined.describe()"
   ]
  },
  {
   "cell_type": "markdown",
   "id": "c1d184d4",
   "metadata": {},
   "source": [
    "tweet about the top editor: https://twitter.com/familyunequal/status/1389668990243557384?lang=en"
   ]
  },
  {
   "cell_type": "markdown",
   "id": "cb57743d",
   "metadata": {},
   "source": [
    "It's pretty clear that there's only 17 publishers in the dataset and there are only ~6000 journals to worry about. However, there are ~3.8k editors appearing in the dataset affiliated with 1.5k institutions. Unsurprisingly, the top country appearing in the data is the United States and the top continent is Europe. "
   ]
  },
  {
   "cell_type": "markdown",
   "id": "af37b093",
   "metadata": {},
   "source": [
    "Looking at the columns we don't *really* need to worry too much about, I'd say we can ignore ISSN (b/c it's not really relevant and has too many null vals), ROR (research organization identifer (b/c it's got too many null vals), URL (b/c it's not relevant). However, I think we should keep the rest including the date of scraping column b/c we may be able to use that as an additional angle for analysis. I hesitated over role, but decided that for now, it might be interesting to keep it (we can always toss it later)."
   ]
  },
  {
   "cell_type": "code",
   "execution_count": 6,
   "id": "a58012e6",
   "metadata": {},
   "outputs": [
    {
     "name": "stdout",
     "output_type": "stream",
     "text": [
      "Wall time: 121 ms\n"
     ]
    }
   ],
   "source": [
    "%%time\n",
    "# dropping the columns I don't care about (in place b/c I know what I'm doing)\n",
    "data_combined.drop([\"issn\",\"ror\",\"url\"], axis=1, inplace=True)"
   ]
  },
  {
   "cell_type": "code",
   "execution_count": 7,
   "id": "ae516f2e",
   "metadata": {},
   "outputs": [
    {
     "data": {
      "text/plain": [
       "Frontiers Media                        174294\n",
       "Elsevier                               108961\n",
       "SAGE                                    56136\n",
       "MDPI                                    35063\n",
       "Emerald                                 18485\n",
       "Inderscience                            16961\n",
       "Hindawi                                 13424\n",
       "Cambridge University Press              12105\n",
       "PLOS                                    10643\n",
       "IGI Global                               9921\n",
       "Brill                                    5956\n",
       "American Psychological Association       3740\n",
       "Karger                                   3419\n",
       "Pleiades                                 3142\n",
       "Royal Society of Chemistry               2721\n",
       "John Benjamins                           2522\n",
       "American Society of Civil Engineers      1019\n",
       "Name: publisher, dtype: int64"
      ]
     },
     "execution_count": 7,
     "metadata": {},
     "output_type": "execute_result"
    }
   ],
   "source": [
    "# looking at the values for the publishers -> can easily do b/c there's only 17\n",
    "data_combined[\"publisher\"].value_counts()"
   ]
  },
  {
   "cell_type": "markdown",
   "id": "048f572c",
   "metadata": {},
   "source": [
    "Looking at these, it's not too surprising, I do think b/c it's such a small number of publishers, we should be able to find headquarters information and figure out where most of the editors of journals they control are from (could be an interesting angle for our visualization."
   ]
  },
  {
   "cell_type": "code",
   "execution_count": 8,
   "id": "bd0a27e4",
   "metadata": {},
   "outputs": [
    {
     "data": {
      "text/plain": [
       "Frontiers in in Psychology                         9961\n",
       "PLOS ONE                                           9219\n",
       "Frontiers in in Physiology                         8218\n",
       "Frontiers in in Neuroscience                       7895\n",
       "Frontiers in in Genetics                           7698\n",
       "Frontiers in in Microbiology                       6990\n",
       "Frontiers in in Oncology                           6676\n",
       "Frontiers in in Immunology                         6509\n",
       "Frontiers in in Plant Science                      6154\n",
       "Frontiers in in Pharmacology                       5818\n",
       "Frontiers in in Neurology                          4789\n",
       "Frontiers in in Celland Developmental Biology      4687\n",
       "Frontiers in in Marine Science                     3980\n",
       "Frontiers in in Psychiatry                         3950\n",
       "Frontiers in in Pediatrics                         3802\n",
       "Frontiers in in Endocrinology                      3718\n",
       "Frontiers in in Physics                            3645\n",
       "Frontiers in in Chemistry                          3612\n",
       "Frontiers in in Public Health                      3404\n",
       "Frontiers in in Bioengineeringand Biotechnology    3298\n",
       "Name: journal, dtype: int64"
      ]
     },
     "execution_count": 8,
     "metadata": {},
     "output_type": "execute_result"
    }
   ],
   "source": [
    "# looking at the top 20 values for the journal -> b/c there's too many to go deeper\n",
    "# I think it'd be interesting to look at the distribution of these -> I suspect it'll follow a power-law distribution\n",
    "data_combined[\"journal\"].value_counts().head(20)"
   ]
  },
  {
   "cell_type": "markdown",
   "id": "9fa55107",
   "metadata": {},
   "source": [
    "It's immediately clear that Frontiers seems to dominate in the publishing game (at least our data). "
   ]
  },
  {
   "cell_type": "code",
   "execution_count": 9,
   "id": "9365225c",
   "metadata": {},
   "outputs": [
    {
     "data": {
      "text/plain": [
       "<AxesSubplot:>"
      ]
     },
     "execution_count": 9,
     "metadata": {},
     "output_type": "execute_result"
    },
    {
     "data": {
      "image/png": "[encoded data removed]",
      "text/plain": [
       "<Figure size 432x288 with 1 Axes>"
      ]
     },
     "metadata": {
      "needs_background": "light"
     },
     "output_type": "display_data"
    }
   ],
   "source": [
    "# visualizing the distribution of the journals\n",
    "data_combined[\"journal\"].value_counts().plot()"
   ]
  },
  {
   "cell_type": "markdown",
   "id": "74888491",
   "metadata": {},
   "source": [
    "As I suspected, even though the x-axis is messy, we can still see there's a power law distribution."
   ]
  },
  {
   "cell_type": "code",
   "execution_count": 10,
   "id": "e3e6b0de",
   "metadata": {},
   "outputs": [
    {
     "data": {
      "text/plain": [
       "Review Editor                    109246\n",
       "Editorial Board                   84007\n",
       "Editorial Board Members           58521\n",
       "Guest Associate Editor            41688\n",
       "Associate Editors                 25944\n",
       "Associate Editor                  25149\n",
       "Editorial Advisory Board          18369\n",
       "Academic Editors                  12161\n",
       "Editorial Review Board            11286\n",
       "Advisory Board                     7485\n",
       "Editors                            5743\n",
       "Consulting Editors                 4843\n",
       "International Advisory Board       3448\n",
       "International Editorial Board      3328\n",
       "EDITORIAL BOARD                    2372\n",
       "Editor-in-Chief                    1944\n",
       "Advisory Editorial Board           1666\n",
       "Editor                             1432\n",
       "Section Editors                    1336\n",
       "Editorial Board Member             1316\n",
       "Name: role, dtype: int64"
      ]
     },
     "execution_count": 10,
     "metadata": {},
     "output_type": "execute_result"
    }
   ],
   "source": [
    "# looking at role -> top 20 b/c too many to count otherwise\n",
    "data_combined[\"role\"].value_counts().head(20)"
   ]
  },
  {
   "cell_type": "markdown",
   "id": "60dfbfa5",
   "metadata": {},
   "source": [
    "My immediate takeaway from this is there are so many different titles. Which makes me question is we *really* care about the titles as much as their mere affiliation with a publisher? Of course, that represents a caveat we'd have to include in our visualization, but I suspect that's not neccesarily a negative."
   ]
  },
  {
   "cell_type": "code",
   "execution_count": 11,
   "id": "0e7adde5",
   "metadata": {},
   "outputs": [
    {
     "data": {
      "text/plain": [
       "<AxesSubplot:>"
      ]
     },
     "execution_count": 11,
     "metadata": {},
     "output_type": "execute_result"
    },
    {
     "data": {
      "image/png": "[encoded data removed]",
      "text/plain": [
       "<Figure size 432x288 with 1 Axes>"
      ]
     },
     "metadata": {
      "needs_background": "light"
     },
     "output_type": "display_data"
    }
   ],
   "source": [
    "# checking the distribution for funsies\n",
    "data_combined[\"role\"].value_counts().plot()"
   ]
  },
  {
   "cell_type": "markdown",
   "id": "d8a14819",
   "metadata": {},
   "source": [
    "Another power law distribution (unsurprising really)."
   ]
  },
  {
   "cell_type": "code",
   "execution_count": 12,
   "id": "2057d8eb",
   "metadata": {},
   "outputs": [
    {
     "data": {
      "text/plain": [
       "Emerald Publishing                                                                   679\n",
       "University of São Paulo; São Paulo, Brazil                                           642\n",
       "Centre National de la Recherche Scientifique (CNRS); Paris, France                   642\n",
       "Sapienza University of Rome; Rome, Italy                                             642\n",
       "University College London; London, United Kingdom                                    626\n",
       "Institut National de la Santé et de la Recherche Médicale (INSERM); Paris, France    557\n",
       "National University of Singapore, Singapore                                          545\n",
       "University of Padua; Padua, Italy                                                    508\n",
       "University of Florida; Gainesville, United States                                    496\n",
       "University of Milan; Milan, Italy                                                    495\n",
       "Stanford University; Stanford, United States                                         491\n",
       "University of Naples Federico II; Naples, Italy                                      473\n",
       "University of Oxford; Oxford, United Kingdom                                         469\n",
       "McGill University; Montreal, Canada                                                  440\n",
       "King's College London; London, United Kingdom                                        436\n",
       "University of Bologna; Bologna, Italy                                                433\n",
       "Karolinska Institutet (KI); Solna, Sweden                                            428\n",
       "Independent researcher                                                               427\n",
       "University of California, Davis; Davis, United States                                416\n",
       "The University of Queensland; Brisbane, Australia                                    410\n",
       "Name: affiliation, dtype: int64"
      ]
     },
     "execution_count": 12,
     "metadata": {},
     "output_type": "execute_result"
    }
   ],
   "source": [
    "# looking at affiliation\n",
    "data_combined[\"affiliation\"].value_counts().head(20)"
   ]
  },
  {
   "cell_type": "markdown",
   "id": "08adfc28",
   "metadata": {},
   "source": [
    "Looking at affiliation is an interesting angle. WE can see some institutions dominating within this dataset but we can also see that some of them aren't too surprising (Oxford) but others are more surprising (Padua for instance)."
   ]
  },
  {
   "cell_type": "code",
   "execution_count": 13,
   "id": "fc9f87df",
   "metadata": {},
   "outputs": [
    {
     "data": {
      "text/plain": [
       "United States     74997\n",
       "USA               47081\n",
       "Italy             30672\n",
       "China             22746\n",
       "United Kingdom    21414\n",
       "Germany           19230\n",
       "UK                16730\n",
       "Australia         16080\n",
       "Spain             15683\n",
       "France            15639\n",
       "Canada            14705\n",
       "Japan             11227\n",
       "India              8924\n",
       "Netherlands        7684\n",
       "Brazil             7339\n",
       "Switzerland        5903\n",
       "Sweden             4704\n",
       "Korea              4462\n",
       "Portugal           4445\n",
       "Greece             4102\n",
       "Name: country, dtype: int64"
      ]
     },
     "execution_count": 13,
     "metadata": {},
     "output_type": "execute_result"
    }
   ],
   "source": [
    "# looking at country\n",
    "data_combined[\"country\"].value_counts().head(20)"
   ]
  },
  {
   "cell_type": "markdown",
   "id": "185c899f",
   "metadata": {},
   "source": [
    "I looked a little deeper at this columns and it's a bit messy (some of the countries are actually lists). This messyness continues with the top 20 as we have some double counting going on (United Kingdom & UK, United States & USA). We'll have to do some work on this column I'd say to correct these mappings. We *may* also want to think about how to address the lists (though I suspect they represent only a small part of the data)."
   ]
  },
  {
   "cell_type": "code",
   "execution_count": 14,
   "id": "fea4b6d6",
   "metadata": {},
   "outputs": [
    {
     "data": {
      "text/plain": [
       "Europe      180795\n",
       "Americas    153825\n",
       "Asia         79806\n",
       "Oceania      20599\n",
       "Africa        5553\n",
       "Name: continent, dtype: int64"
      ]
     },
     "execution_count": 14,
     "metadata": {},
     "output_type": "execute_result"
    }
   ],
   "source": [
    "# looking at continent\n",
    "data_combined[\"continent\"].value_counts()"
   ]
  },
  {
   "cell_type": "code",
   "execution_count": 15,
   "id": "4bd49a19",
   "metadata": {},
   "outputs": [
    {
     "data": {
      "text/plain": [
       "<AxesSubplot:ylabel='continent'>"
      ]
     },
     "execution_count": 15,
     "metadata": {},
     "output_type": "execute_result"
    },
    {
     "data": {
      "image/png": "[encoded data removed]",
      "text/plain": [
       "<Figure size 432x288 with 1 Axes>"
      ]
     },
     "metadata": {},
     "output_type": "display_data"
    }
   ],
   "source": [
    "data_combined[\"continent\"].value_counts().plot(kind=\"pie\")"
   ]
  },
  {
   "cell_type": "markdown",
   "id": "37201968",
   "metadata": {},
   "source": [
    "It's pretty clearly concentrated among Europe and America in terms of continent."
   ]
  },
  {
   "cell_type": "code",
   "execution_count": 16,
   "id": "7b0cc9c7",
   "metadata": {},
   "outputs": [
    {
     "data": {
      "text/plain": [
       "2020-12-15    122122\n",
       "2020-12-14     73556\n",
       "2020-12-23     51158\n",
       "2020-12-22     47342\n",
       "2020-12-28     42139\n",
       "2020-12-16     36350\n",
       "2020-12-21     33655\n",
       "2020-12-18     24470\n",
       "2021-01-18     20344\n",
       "2020-12-17     13314\n",
       "2020-12-19      9219\n",
       "2021-01-28      3419\n",
       "2020-12-25      1424\n",
       "Name: date, dtype: int64"
      ]
     },
     "execution_count": 16,
     "metadata": {},
     "output_type": "execute_result"
    }
   ],
   "source": [
    "data_combined[\"date\"].value_counts()"
   ]
  },
  {
   "cell_type": "markdown",
   "id": "0db682a3",
   "metadata": {},
   "source": [
    "Looking at the actual values for dates, I'm not sold on the utility of the column so I'm inclined to drop it."
   ]
  },
  {
   "cell_type": "markdown",
   "id": "bc3d22a1",
   "metadata": {},
   "source": [
    "##### Final Cleaning"
   ]
  },
  {
   "cell_type": "code",
   "execution_count": 17,
   "id": "060b1e9d",
   "metadata": {},
   "outputs": [],
   "source": [
    "# dropping the two columns I realized didn't provide any utility \n",
    "data_combined.drop([\"role\",\"date\"], axis=1, inplace=True)"
   ]
  },
  {
   "cell_type": "code",
   "execution_count": 18,
   "id": "d45daecb",
   "metadata": {},
   "outputs": [
    {
     "data": {
      "text/plain": [
       "publisher          0\n",
       "journal            6\n",
       "editor             0\n",
       "affiliation     8378\n",
       "country        32552\n",
       "continent      37934\n",
       "dtype: int64"
      ]
     },
     "execution_count": 18,
     "metadata": {},
     "output_type": "execute_result"
    }
   ],
   "source": [
    "# checking what nans we've retained here\n",
    "data_combined.isna().sum()"
   ]
  },
  {
   "cell_type": "markdown",
   "id": "d23c1bf1",
   "metadata": {},
   "source": [
    "We'll have to make a decision about whether we want to drop these NAs and whether these are important enough but for now, I'm going to go ahead and drop them just to be doing what I normally would."
   ]
  },
  {
   "cell_type": "code",
   "execution_count": 19,
   "id": "ba1235f3",
   "metadata": {},
   "outputs": [],
   "source": [
    "# dropping nans like I normally would\n",
    "data_combined.dropna(inplace=True)"
   ]
  },
  {
   "cell_type": "code",
   "execution_count": 20,
   "id": "4686d8f9",
   "metadata": {},
   "outputs": [],
   "source": [
    "# remapping the country names I know are messed up -> would have preferred if they had used country codes though\n",
    "data_combined.loc[data_combined[\"country\"] == \"USA\", \"country\"] = \"United States\"\n",
    "data_combined.loc[data_combined[\"country\"] == \"UK\", \"country\"] = \"United Kingdom\""
   ]
  },
  {
   "cell_type": "code",
   "execution_count": 21,
   "id": "739c521f",
   "metadata": {},
   "outputs": [
    {
     "data": {
      "text/plain": [
       "United States                   122078\n",
       "United Kingdom                   38144\n",
       "Italy                            30672\n",
       "China                            22746\n",
       "Germany                          19230\n",
       "Australia                        16080\n",
       "Spain                            15683\n",
       "France                           15639\n",
       "Canada                           14705\n",
       "Japan                            11227\n",
       "India                             8924\n",
       "Netherlands                       7684\n",
       "Brazil                            7339\n",
       "Switzerland                       5903\n",
       "Sweden                            4704\n",
       "Korea                             4462\n",
       "Portugal                          4445\n",
       "Greece                            4102\n",
       "Belgium                           4034\n",
       "Russia                            3299\n",
       "Austria                           3226\n",
       "Taiwan                            2977\n",
       "Israel                            2892\n",
       "New Zealand                       2886\n",
       "Poland                            2849\n",
       "Turkey                            2720\n",
       "China, China                      2669\n",
       "Denmark                           2625\n",
       "Finland                           2409\n",
       "Norway                            2304\n",
       "Hong Kong, Hong Kong              2236\n",
       "South Africa                      1983\n",
       "Ireland                           1868\n",
       "Singapore, Singapore              1681\n",
       "Argentina                         1668\n",
       "United States, United States      1475\n",
       "Mexico                            1474\n",
       "Australia, Australia              1300\n",
       "Saudi Arabia                      1285\n",
       "Hungary                           1247\n",
       "Iran                              1050\n",
       "Egypt                              941\n",
       "Romania                            940\n",
       "Korea, Korea                       916\n",
       "Malaysia, Malaysia                 885\n",
       "Taiwan, Taiwan                     860\n",
       "Chile                              823\n",
       "Mexico, Mexico                     795\n",
       "Thailand                           794\n",
       "Malaysia                           748\n",
       "Name: country, dtype: int64"
      ]
     },
     "execution_count": 21,
     "metadata": {},
     "output_type": "execute_result"
    }
   ],
   "source": [
    "data_combined[\"country\"].value_counts().head(50)"
   ]
  },
  {
   "cell_type": "markdown",
   "id": "0ea55067",
   "metadata": {},
   "source": [
    "Unfortunately, I still need to do some more cleaning on the countries here. Like a lot more cleaning to fix it. I should make a function which splits on the vals on commas and if they are the same, reassigns the whole to that value. Because that seems to be repeating that much."
   ]
  },
  {
   "cell_type": "markdown",
   "id": "3e7d0a6f",
   "metadata": {},
   "source": [
    "#### Further Cleaning"
   ]
  },
  {
   "cell_type": "code",
   "execution_count": 22,
   "id": "e9479a3f",
   "metadata": {},
   "outputs": [],
   "source": [
    "# function to apply to the series values\n",
    "# takes in a list -> returns either a single value or a list\n",
    "def dup_fix(x):\n",
    "        \n",
    "    # removing the white space \n",
    "    x = [i.strip() for i in x]\n",
    "    \n",
    "    # checking if the 0th element is the entirety of the list\n",
    "    # returning 0th element if all the elements are the same\n",
    "    if x.count(x[0]) == len(x):\n",
    "        return(x[0])\n",
    "    \n",
    "    # else all the elements are the same \n",
    "    else:\n",
    "        return(x)"
   ]
  },
  {
   "cell_type": "code",
   "execution_count": 23,
   "id": "f01114a9",
   "metadata": {},
   "outputs": [],
   "source": [
    "# pulls only those rows where the country has a list (contains a comma) and splits those into a list\n",
    "# those represent ~27k rows...\n",
    "# splitting on a double comma because that's the format we're dealing with here for some reason...\n",
    "data_combined[data_combined[\"country\"].str.contains(\",\") == True][\"country\"].str.split(\",,\")\n",
    "\n",
    "# fixing those countries where they are a single country represented as a list\n",
    "data_combined.loc[data_combined[\"country\"].str.contains(\",\") == True, \"country\"] = (\n",
    "    data_combined[data_combined[\"country\"].str.contains(\",\") == True][\"country\"].str.split(\",\").apply(dup_fix))"
   ]
  },
  {
   "cell_type": "code",
   "execution_count": 45,
   "id": "7c76bb00",
   "metadata": {},
   "outputs": [],
   "source": [
    "# function to clean up the editor column\n",
    "# function takes in the editor and removes white space\n",
    "def editor_cleaner(x):\n",
    "    \n",
    "    # removing the carriage returns and the new lines\n",
    "    x = x.strip()\n",
    "\n",
    "    # checking for the pattern of years in parens\n",
    "    # using a regex to search for (YYYY-YYYY)\n",
    "    search = re.search('(.*)(\\(\\d\\d\\d\\d-\\d\\d\\d\\d\\))', x)\n",
    "    \n",
    "    # checking if there is a match\n",
    "    if search:\n",
    "        # if there's a match, pulling group 1\n",
    "        # stripping trailing and leading whitespace -> just in case\n",
    "        x = search.group(1)\n",
    "        x = x.strip()\n",
    "        \n",
    "    return x"
   ]
  },
  {
   "cell_type": "code",
   "execution_count": 47,
   "id": "b3a5e64e",
   "metadata": {},
   "outputs": [],
   "source": [
    "# fixing the editor names where they are super messy\n",
    "data_combined[\"editor\"] = data_combined[\"editor\"].apply(editor_cleaner)"
   ]
  },
  {
   "cell_type": "code",
   "execution_count": 51,
   "id": "1c4d80b3",
   "metadata": {},
   "outputs": [
    {
     "data": {
      "text/plain": [
       "0     Children<U+0092>s Health, Dallas, United States\n",
       "1    University of Nebraska at Lincoln, United States\n",
       "2                    Temple University, United States\n",
       "3                         VA San Diego, United States\n",
       "4                   Clemson University, United States\n",
       "Name: affiliation, dtype: object"
      ]
     },
     "execution_count": 51,
     "metadata": {},
     "output_type": "execute_result"
    }
   ],
   "source": [
    "data_combined[\"affiliation\"].head()"
   ]
  },
  {
   "cell_type": "code",
   "execution_count": 57,
   "id": "e302fc6b",
   "metadata": {},
   "outputs": [
    {
     "data": {
      "text/html": [
       "<div>\n",
       "<style scoped>\n",
       "    .dataframe tbody tr th:only-of-type {\n",
       "        vertical-align: middle;\n",
       "    }\n",
       "\n",
       "    .dataframe tbody tr th {\n",
       "        vertical-align: top;\n",
       "    }\n",
       "\n",
       "    .dataframe thead th {\n",
       "        text-align: right;\n",
       "    }\n",
       "</style>\n",
       "<table border=\"1\" class=\"dataframe\">\n",
       "  <thead>\n",
       "    <tr style=\"text-align: right;\">\n",
       "      <th></th>\n",
       "      <th>publisher</th>\n",
       "      <th>journal</th>\n",
       "      <th>editor</th>\n",
       "      <th>affiliation</th>\n",
       "      <th>country</th>\n",
       "      <th>continent</th>\n",
       "    </tr>\n",
       "  </thead>\n",
       "  <tbody>\n",
       "    <tr>\n",
       "      <th>0</th>\n",
       "      <td>American Psychological Association</td>\n",
       "      <td>American Journal of Orthopsychiatry</td>\n",
       "      <td>Jill D. McLeigh, PhD</td>\n",
       "      <td>Children&lt;U+0092&gt;s Health, Dallas, United States</td>\n",
       "      <td>United States</td>\n",
       "      <td>Americas</td>\n",
       "    </tr>\n",
       "    <tr>\n",
       "      <th>2268</th>\n",
       "      <td>American Psychological Association</td>\n",
       "      <td>Neuropsychology&lt;U+00AE&gt;</td>\n",
       "      <td>Stephen J. C. Hearps, MBiostat&lt;em&gt;</td>\n",
       "      <td>&lt;br&gt;\\r\\r\\r\\nMurdoch Children&lt;U+0092&gt;s Research...</td>\n",
       "      <td>Australia</td>\n",
       "      <td>Oceania</td>\n",
       "    </tr>\n",
       "    <tr>\n",
       "      <th>3304</th>\n",
       "      <td>American Psychological Association</td>\n",
       "      <td>Psychology, Public Policy, and Law&lt;U+00AE&gt;</td>\n",
       "      <td>Christopher E. Kelly, PhD</td>\n",
       "      <td>Saint Joseph&lt;U+0092&gt;s University, United States</td>\n",
       "      <td>United States</td>\n",
       "      <td>Americas</td>\n",
       "    </tr>\n",
       "    <tr>\n",
       "      <th>3645</th>\n",
       "      <td>American Psychological Association</td>\n",
       "      <td>Stigma and Health</td>\n",
       "      <td>Claire Henderson, PhD</td>\n",
       "      <td>King&lt;U+0092&gt;s College London, United Kingdom</td>\n",
       "      <td>United Kingdom</td>\n",
       "      <td>Europe</td>\n",
       "    </tr>\n",
       "    <tr>\n",
       "      <th>3903</th>\n",
       "      <td>American Society of Civil Engineers</td>\n",
       "      <td>Journal of Composites for Construction</td>\n",
       "      <td>Joshua Woods</td>\n",
       "      <td>Queen&lt;U+0092&gt;s University, Canada</td>\n",
       "      <td>Canada</td>\n",
       "      <td>Americas</td>\n",
       "    </tr>\n",
       "    <tr>\n",
       "      <th>...</th>\n",
       "      <td>...</td>\n",
       "      <td>...</td>\n",
       "      <td>...</td>\n",
       "      <td>...</td>\n",
       "      <td>...</td>\n",
       "      <td>...</td>\n",
       "    </tr>\n",
       "    <tr>\n",
       "      <th>476195</th>\n",
       "      <td>SAGE</td>\n",
       "      <td>Multiple Sclerosis Journal &lt;U+0096&gt; Experiment...</td>\n",
       "      <td>Michael Hutchinson</td>\n",
       "      <td>St. Vincent&lt;U+0092&gt;s University Hospital, Ireland</td>\n",
       "      <td>Ireland</td>\n",
       "      <td>Europe</td>\n",
       "    </tr>\n",
       "    <tr>\n",
       "      <th>476207</th>\n",
       "      <td>SAGE</td>\n",
       "      <td>Multiple Sclerosis Journal &lt;U+0096&gt; Experiment...</td>\n",
       "      <td>Anne-Louise Ponsonby</td>\n",
       "      <td>Murdoch Children&lt;U+0092&gt;s Research Institute, ...</td>\n",
       "      <td>Australia</td>\n",
       "      <td>Oceania</td>\n",
       "    </tr>\n",
       "    <tr>\n",
       "      <th>476649</th>\n",
       "      <td>SAGE</td>\n",
       "      <td>The Neurohospitalist</td>\n",
       "      <td>Christopher Doughty, MD</td>\n",
       "      <td>Brigham and Women&lt;U+0092&gt;s Hospital and Harvar...</td>\n",
       "      <td>United States</td>\n",
       "      <td>Americas</td>\n",
       "    </tr>\n",
       "    <tr>\n",
       "      <th>477567</th>\n",
       "      <td>SAGE</td>\n",
       "      <td>Nursing Science Quarterly</td>\n",
       "      <td>Karen Carroll, RN, PhD</td>\n",
       "      <td>Ann &amp; Robert H. Lurie Children&lt;U+0092&gt;s Hospit...</td>\n",
       "      <td>United States</td>\n",
       "      <td>Americas</td>\n",
       "    </tr>\n",
       "    <tr>\n",
       "      <th>478230</th>\n",
       "      <td>SAGE</td>\n",
       "      <td>Organization Theory</td>\n",
       "      <td>Tina Dacin</td>\n",
       "      <td>Queen&lt;U+0092&gt;s University, Canada</td>\n",
       "      <td>Canada</td>\n",
       "      <td>Americas</td>\n",
       "    </tr>\n",
       "  </tbody>\n",
       "</table>\n",
       "<p>1615 rows × 6 columns</p>\n",
       "</div>"
      ],
      "text/plain": [
       "                                  publisher  \\\n",
       "0        American Psychological Association   \n",
       "2268     American Psychological Association   \n",
       "3304     American Psychological Association   \n",
       "3645     American Psychological Association   \n",
       "3903    American Society of Civil Engineers   \n",
       "...                                     ...   \n",
       "476195                                 SAGE   \n",
       "476207                                 SAGE   \n",
       "476649                                 SAGE   \n",
       "477567                                 SAGE   \n",
       "478230                                 SAGE   \n",
       "\n",
       "                                                  journal  \\\n",
       "0                     American Journal of Orthopsychiatry   \n",
       "2268                              Neuropsychology<U+00AE>   \n",
       "3304           Psychology, Public Policy, and Law<U+00AE>   \n",
       "3645                                    Stigma and Health   \n",
       "3903               Journal of Composites for Construction   \n",
       "...                                                   ...   \n",
       "476195  Multiple Sclerosis Journal <U+0096> Experiment...   \n",
       "476207  Multiple Sclerosis Journal <U+0096> Experiment...   \n",
       "476649                               The Neurohospitalist   \n",
       "477567                          Nursing Science Quarterly   \n",
       "478230                                Organization Theory   \n",
       "\n",
       "                                    editor  \\\n",
       "0                     Jill D. McLeigh, PhD   \n",
       "2268    Stephen J. C. Hearps, MBiostat<em>   \n",
       "3304             Christopher E. Kelly, PhD   \n",
       "3645                 Claire Henderson, PhD   \n",
       "3903                          Joshua Woods   \n",
       "...                                    ...   \n",
       "476195                  Michael Hutchinson   \n",
       "476207                Anne-Louise Ponsonby   \n",
       "476649             Christopher Doughty, MD   \n",
       "477567              Karen Carroll, RN, PhD   \n",
       "478230                          Tina Dacin   \n",
       "\n",
       "                                              affiliation         country  \\\n",
       "0         Children<U+0092>s Health, Dallas, United States   United States   \n",
       "2268    <br>\\r\\r\\r\\nMurdoch Children<U+0092>s Research...       Australia   \n",
       "3304      Saint Joseph<U+0092>s University, United States   United States   \n",
       "3645         King<U+0092>s College London, United Kingdom  United Kingdom   \n",
       "3903                    Queen<U+0092>s University, Canada          Canada   \n",
       "...                                                   ...             ...   \n",
       "476195  St. Vincent<U+0092>s University Hospital, Ireland         Ireland   \n",
       "476207  Murdoch Children<U+0092>s Research Institute, ...       Australia   \n",
       "476649  Brigham and Women<U+0092>s Hospital and Harvar...   United States   \n",
       "477567  Ann & Robert H. Lurie Children<U+0092>s Hospit...   United States   \n",
       "478230                  Queen<U+0092>s University, Canada          Canada   \n",
       "\n",
       "       continent  \n",
       "0       Americas  \n",
       "2268     Oceania  \n",
       "3304    Americas  \n",
       "3645      Europe  \n",
       "3903    Americas  \n",
       "...          ...  \n",
       "476195    Europe  \n",
       "476207   Oceania  \n",
       "476649  Americas  \n",
       "477567  Americas  \n",
       "478230  Americas  \n",
       "\n",
       "[1615 rows x 6 columns]"
      ]
     },
     "execution_count": 57,
     "metadata": {},
     "output_type": "execute_result"
    }
   ],
   "source": [
    "data_combined[data_combined[\"affiliation\"].str.find(\"<U+0092>\") >= 0]"
   ]
  },
  {
   "cell_type": "markdown",
   "id": "4192d837",
   "metadata": {},
   "source": [
    "Still need to fix the character encoding errors. Present in several columns"
   ]
  }
 ],
 "metadata": {
  "kernelspec": {
   "display_name": "Python 3 (ipykernel)",
   "language": "python",
   "name": "python3"
  },
  "language_info": {
   "codemirror_mode": {
    "name": "ipython",
    "version": 3
   },
   "file_extension": ".py",
   "mimetype": "text/x-python",
   "name": "python",
   "nbconvert_exporter": "python",
   "pygments_lexer": "ipython3",
   "version": "3.9.7"
  }
 },
 "nbformat": 4,
 "nbformat_minor": 5
}
